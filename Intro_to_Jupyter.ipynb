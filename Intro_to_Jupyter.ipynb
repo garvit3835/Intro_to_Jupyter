{
 "cells": [
  {
   "cell_type": "markdown",
   "id": "966aafc9",
   "metadata": {},
   "source": [
    "## 2. In Jupyter Notebooks, there are primarily two types of cells:\n",
    "\n",
    "\n"
   ]
  },
  {
   "cell_type": "markdown",
   "id": "0f969534",
   "metadata": {},
   "source": [
    "### Code cells: \n",
    "-> These cells are used to write and execute code snippets in languages like Python, R, Julia, etc."
   ]
  },
  {
   "cell_type": "code",
   "execution_count": 13,
   "id": "0844f28d",
   "metadata": {},
   "outputs": [
    {
     "name": "stdout",
     "output_type": "stream",
     "text": [
      "100\n"
     ]
    }
   ],
   "source": [
    "a = 45\n",
    "b = 55\n",
    "print(a+b)"
   ]
  },
  {
   "cell_type": "markdown",
   "id": "51daa894",
   "metadata": {},
   "source": [
    "### Markdown cells: \n",
    "-> These cells contain text written in Markdown, which is a lightweight markup language. Markdown cells are used to add explanations, documentation, headings, lists, links, images, etc., to the notebook."
   ]
  },
  {
   "cell_type": "markdown",
   "id": "5e08ebdb",
   "metadata": {},
   "source": [
    "* This is a Markdown cell"
   ]
  },
  {
   "cell_type": "markdown",
   "id": "64b483a5",
   "metadata": {},
   "source": [
    "## Introduction to Jupyter Notebooks\n",
    "\n",
    "Jupyter Notebooks are interactive computing environments that enable users to create and share documents containing live code, equations, visualizations, and explanatory text. They support various programming languages, including Python, R, Julia, and more. With Jupyter Notebooks, users can explore data, prototype algorithms, visualize results, and narrate their computational processes in a single interface.\n"
   ]
  },
  {
   "cell_type": "code",
   "execution_count": 14,
   "id": "5ce41190",
   "metadata": {},
   "outputs": [
    {
     "name": "stdout",
     "output_type": "stream",
     "text": [
      "50 is smaller than 100\n"
     ]
    }
   ],
   "source": [
    "# Simple Python Expression\n",
    "n = 50\n",
    "m = 100\n",
    "if(n < m):\n",
    "    print(f'{n} is smaller than {m}')\n",
    "else:\n",
    "    print(f'{n} is greater than {m}')"
   ]
  },
  {
   "cell_type": "markdown",
   "id": "bfa14b78",
   "metadata": {},
   "source": [
    "## 3. Basic Markdown syntax for text formatting:\n",
    "* Headings: Use \"#\" followed by a space for headings. The number of \"#\" symbols indicates the level of the heading.\n",
    "* Bold: Surround the text with double asterisks (**text**) or double underscores (__text__).\n",
    "* Italic: Surround the text with single asterisks (*text*) or single underscores (_text_)."
   ]
  },
  {
   "cell_type": "markdown",
   "id": "0c0aa412",
   "metadata": {},
   "source": [
    "## Practice creating Markdown cells with formatted text and headings:"
   ]
  },
  {
   "cell_type": "markdown",
   "id": "72384780",
   "metadata": {},
   "source": [
    "# HEADING 1\n",
    "## HEADING 2\n",
    "### HEADING 3\n",
    "#### HEADING 4"
   ]
  },
  {
   "cell_type": "markdown",
   "id": "986363e5",
   "metadata": {},
   "source": [
    "## Insert images and hyperlinks using Markdown syntax:\n",
    "Embedding an image is very similar to adding a link in Markdown:\n",
    "\n",
    "![Alt text](URL or file path)\n",
    "\n",
    "* Add an exclamation mark !\n",
    "* Followed by the alt text in square brackets [Alt text]\n",
    "* And the path or URL to the image asset in parentheses ( )."
   ]
  },
  {
   "cell_type": "markdown",
   "id": "aa780be0",
   "metadata": {},
   "source": [
    "![Sonny and Mariel high fiving.](https://content.codecademy.com/courses/learn-cpp/community-challenge/highfive.gif)'"
   ]
  },
  {
   "cell_type": "markdown",
   "id": "108eb23a",
   "metadata": {},
   "source": [
    "Linked Images\n",
    "To add a link to an image, enclose the Markdown for the image in brackets, and then add the link in parentheses.\n",
    "\n",
    "[![A mushroom-head robot](/assets/images/codey.jpg 'Codey the Codecademy mascot')](https://codecademy.com)"
   ]
  },
  {
   "cell_type": "markdown",
   "id": "0c419b99",
   "metadata": {},
   "source": [
    "## My favorite programming languages:\n",
    "1. Python\n",
    "2. C++\n",
    "3. C\n",
    "4. Java\n",
    "5. Rust\n"
   ]
  },
  {
   "cell_type": "markdown",
   "id": "2567ef4c",
   "metadata": {},
   "source": [
    "## 4. Write a Python function that calculates the factorial of a given number:"
   ]
  },
  {
   "cell_type": "code",
   "execution_count": 7,
   "id": "4e98e2cb",
   "metadata": {},
   "outputs": [],
   "source": [
    "def factorial(n):\n",
    "    if n == 0:\n",
    "        return 1\n",
    "    else:\n",
    "        return n * factorial(n - 1)"
   ]
  },
  {
   "cell_type": "code",
   "execution_count": 18,
   "id": "9d546ce6",
   "metadata": {},
   "outputs": [
    {
     "name": "stdout",
     "output_type": "stream",
     "text": [
      "720\n",
      "24\n",
      "1\n"
     ]
    }
   ],
   "source": [
    "print(factorial(6))\n",
    "print(factorial(4))\n",
    "print(factorial(0))"
   ]
  },
  {
   "cell_type": "markdown",
   "id": "5f1dc025",
   "metadata": {},
   "source": [
    "## Import a Python library (e.g., NumPy) and use it to perform a mathematical operation (e.g., calculate mean, median)"
   ]
  },
  {
   "cell_type": "code",
   "execution_count": 9,
   "id": "1ffc31c5",
   "metadata": {},
   "outputs": [
    {
     "name": "stdout",
     "output_type": "stream",
     "text": [
      "Mean: 5.5\n",
      "Median: 5.5\n"
     ]
    }
   ],
   "source": [
    "import numpy as np\n",
    "\n",
    "# Calculate mean and median using NumPy\n",
    "data = [1, 2, 3, 4, 5, 6, 7, 8, 9, 10]\n",
    "mean_value = np.mean(data)\n",
    "median_value = np.median(data)\n",
    "\n",
    "print(\"Mean:\", mean_value)  # Output: 5.5\n",
    "print(\"Median:\", median_value)  # Output: 5.5"
   ]
  },
  {
   "cell_type": "markdown",
   "id": "5bafff70",
   "metadata": {},
   "source": [
    "## Visualize data using Matplotlib or Seaborn libraries within a Jupyter Notebook:"
   ]
  },
  {
   "cell_type": "code",
   "execution_count": 10,
   "id": "42e9b320",
   "metadata": {},
   "outputs": [
    {
     "name": "stdout",
     "output_type": "stream",
     "text": [
      "Collecting matplotlib\n",
      "  Obtaining dependency information for matplotlib from https://files.pythonhosted.org/packages/5e/4b/f228e012312120c8b4ef02c43230499e9df7d3075fd1e965086e529a0f49/matplotlib-3.8.2-cp39-cp39-win_amd64.whl.metadata\n",
      "  Downloading matplotlib-3.8.2-cp39-cp39-win_amd64.whl.metadata (5.9 kB)\n",
      "Collecting contourpy>=1.0.1 (from matplotlib)\n",
      "  Obtaining dependency information for contourpy>=1.0.1 from https://files.pythonhosted.org/packages/ba/e5/05fdbe3a7570777464595ab1de9047adef7de99659cf969dbfe007e165cb/contourpy-1.2.0-cp39-cp39-win_amd64.whl.metadata\n",
      "  Downloading contourpy-1.2.0-cp39-cp39-win_amd64.whl.metadata (5.8 kB)\n",
      "Collecting cycler>=0.10 (from matplotlib)\n",
      "  Obtaining dependency information for cycler>=0.10 from https://files.pythonhosted.org/packages/e7/05/c19819d5e3d95294a6f5947fb9b9629efb316b96de511b418c53d245aae6/cycler-0.12.1-py3-none-any.whl.metadata\n",
      "  Downloading cycler-0.12.1-py3-none-any.whl.metadata (3.8 kB)\n",
      "Collecting fonttools>=4.22.0 (from matplotlib)\n",
      "  Obtaining dependency information for fonttools>=4.22.0 from https://files.pythonhosted.org/packages/c7/98/fd895447db1a15342df999d19743bdb5883d005e66f2a53dde308be5c63b/fonttools-4.47.2-cp39-cp39-win_amd64.whl.metadata\n",
      "  Downloading fonttools-4.47.2-cp39-cp39-win_amd64.whl.metadata (160 kB)\n",
      "     ---------------------------------------- 0.0/160.8 kB ? eta -:--:--\n",
      "     -------------------------------------- 160.8/160.8 kB 3.2 MB/s eta 0:00:00\n",
      "Collecting kiwisolver>=1.3.1 (from matplotlib)\n",
      "  Obtaining dependency information for kiwisolver>=1.3.1 from https://files.pythonhosted.org/packages/ca/c1/1f986c8119c0c57c2bd71d1941da23332c38ee2c90117e46dff4358b70f7/kiwisolver-1.4.5-cp39-cp39-win_amd64.whl.metadata\n",
      "  Downloading kiwisolver-1.4.5-cp39-cp39-win_amd64.whl.metadata (6.5 kB)\n",
      "Requirement already satisfied: numpy<2,>=1.21 in c:\\users\\garvit\\appdata\\local\\programs\\python\\python39\\lib\\site-packages (from matplotlib) (1.26.0)\n",
      "Requirement already satisfied: packaging>=20.0 in c:\\users\\garvit\\appdata\\local\\programs\\python\\python39\\lib\\site-packages (from matplotlib) (23.1)\n",
      "Requirement already satisfied: pillow>=8 in c:\\users\\garvit\\appdata\\local\\programs\\python\\python39\\lib\\site-packages (from matplotlib) (10.0.1)\n",
      "Collecting pyparsing>=2.3.1 (from matplotlib)\n",
      "  Obtaining dependency information for pyparsing>=2.3.1 from https://files.pythonhosted.org/packages/39/92/8486ede85fcc088f1b3dba4ce92dd29d126fd96b0008ea213167940a2475/pyparsing-3.1.1-py3-none-any.whl.metadata\n",
      "  Downloading pyparsing-3.1.1-py3-none-any.whl.metadata (5.1 kB)\n",
      "Requirement already satisfied: python-dateutil>=2.7 in c:\\users\\garvit\\appdata\\roaming\\python\\python39\\site-packages (from matplotlib) (2.8.2)\n",
      "Requirement already satisfied: importlib-resources>=3.2.0 in c:\\users\\garvit\\appdata\\local\\programs\\python\\python39\\lib\\site-packages (from matplotlib) (5.0.7)\n",
      "Requirement already satisfied: six>=1.5 in c:\\users\\garvit\\appdata\\roaming\\python\\python39\\site-packages (from python-dateutil>=2.7->matplotlib) (1.16.0)\n",
      "Downloading matplotlib-3.8.2-cp39-cp39-win_amd64.whl (7.6 MB)\n",
      "   ---------------------------------------- 0.0/7.6 MB ? eta -:--:--\n",
      "   ----- ---------------------------------- 1.0/7.6 MB 21.1 MB/s eta 0:00:01\n",
      "   ---------- ----------------------------- 2.0/7.6 MB 21.0 MB/s eta 0:00:01\n",
      "   -------------- ------------------------- 2.8/7.6 MB 19.6 MB/s eta 0:00:01\n",
      "   ------------------ --------------------- 3.5/7.6 MB 18.5 MB/s eta 0:00:01\n",
      "   ----------------------- ---------------- 4.4/7.6 MB 18.9 MB/s eta 0:00:01\n",
      "   ----------------------- ---------------- 4.5/7.6 MB 19.1 MB/s eta 0:00:01\n",
      "   ------------------------- -------------- 4.9/7.6 MB 15.5 MB/s eta 0:00:01\n",
      "   ------------------------- -------------- 4.9/7.6 MB 15.5 MB/s eta 0:00:01\n",
      "   ----------------------------- ---------- 5.6/7.6 MB 13.3 MB/s eta 0:00:01\n",
      "   ------------------------------ --------- 5.8/7.6 MB 12.8 MB/s eta 0:00:01\n",
      "   ----------------------------------- ---- 6.7/7.6 MB 13.1 MB/s eta 0:00:01\n",
      "   ------------------------------------ --- 7.0/7.6 MB 12.7 MB/s eta 0:00:01\n",
      "   ---------------------------------------  7.6/7.6 MB 12.9 MB/s eta 0:00:01\n",
      "   ---------------------------------------  7.6/7.6 MB 12.9 MB/s eta 0:00:01\n",
      "   ---------------------------------------  7.6/7.6 MB 12.9 MB/s eta 0:00:01\n",
      "   ---------------------------------------- 7.6/7.6 MB 10.6 MB/s eta 0:00:00\n",
      "Downloading contourpy-1.2.0-cp39-cp39-win_amd64.whl (181 kB)\n",
      "   ---------------------------------------- 0.0/181.9 kB ? eta -:--:--\n",
      "   ---------------------------------------- 181.9/181.9 kB 5.5 MB/s eta 0:00:00\n",
      "Downloading cycler-0.12.1-py3-none-any.whl (8.3 kB)\n",
      "Downloading fonttools-4.47.2-cp39-cp39-win_amd64.whl (2.2 MB)\n",
      "   ---------------------------------------- 0.0/2.2 MB ? eta -:--:--\n",
      "   -------- ------------------------------- 0.5/2.2 MB 9.4 MB/s eta 0:00:01\n",
      "   -------------------- ------------------- 1.1/2.2 MB 11.9 MB/s eta 0:00:01\n",
      "   --------------------------------- ------ 1.8/2.2 MB 14.6 MB/s eta 0:00:01\n",
      "   ---------------------------------- ----- 1.9/2.2 MB 13.2 MB/s eta 0:00:01\n",
      "   ---------------------------------- ----- 1.9/2.2 MB 13.2 MB/s eta 0:00:01\n",
      "   ----------------------------------- ---- 1.9/2.2 MB 6.8 MB/s eta 0:00:01\n",
      "   ---------------------------------------  2.2/2.2 MB 6.9 MB/s eta 0:00:01\n",
      "   ---------------------------------------- 2.2/2.2 MB 5.8 MB/s eta 0:00:00\n",
      "Downloading kiwisolver-1.4.5-cp39-cp39-win_amd64.whl (56 kB)\n",
      "   ---------------------------------------- 0.0/56.2 kB ? eta -:--:--\n",
      "   ---------------------------------------- 56.2/56.2 kB 2.9 MB/s eta 0:00:00\n",
      "Downloading pyparsing-3.1.1-py3-none-any.whl (103 kB)\n",
      "   ---------------------------------------- 0.0/103.1 kB ? eta -:--:--\n",
      "   ---------------------------------------- 103.1/103.1 kB 5.8 MB/s eta 0:00:00\n",
      "Installing collected packages: pyparsing, kiwisolver, fonttools, cycler, contourpy, matplotlib\n",
      "Successfully installed contourpy-1.2.0 cycler-0.12.1 fonttools-4.47.2 kiwisolver-1.4.5 matplotlib-3.8.2 pyparsing-3.1.1\n"
     ]
    },
    {
     "name": "stderr",
     "output_type": "stream",
     "text": [
      "\n",
      "[notice] A new release of pip is available: 23.2.1 -> 24.0\n",
      "[notice] To update, run: python.exe -m pip install --upgrade pip\n"
     ]
    }
   ],
   "source": [
    "! pip install matplotlib"
   ]
  },
  {
   "cell_type": "code",
   "execution_count": 11,
   "id": "cd9ee2d9",
   "metadata": {},
   "outputs": [
    {
     "data": {
      "image/png": "[encoded data removed]",
      "text/plain": [
       "<Figure size 640x480 with 1 Axes>"
      ]
     },
     "metadata": {},
     "output_type": "display_data"
    }
   ],
   "source": [
    "import matplotlib.pyplot as plt\n",
    "\n",
    "# Create some sample data\n",
    "x = np.arange(0, 10, 0.1)\n",
    "y = np.sin(x)\n",
    "\n",
    "# Create a line plot using Matplotlib\n",
    "plt.plot(x, y)\n",
    "plt.title('Sine Wave')\n",
    "plt.xlabel('X-axis')\n",
    "plt.ylabel('Y-axis')\n",
    "plt.grid(True)\n",
    "plt.show()"
   ]
  },
  {
   "cell_type": "markdown",
   "id": "4f005567",
   "metadata": {},
   "source": [
    "## 5. Understand what a kernel is in the context of Jupyter Notebooks:\n",
    "In the context of Jupyter Notebooks, a kernel is a computational engine that executes the code contained in a notebook document. It provides support for various programming languages like Python, R, Julia, etc. The kernel receives the code, executes it, and sends the results back to the notebook interface."
   ]
  },
  {
   "cell_type": "markdown",
   "id": "e97817c7",
   "metadata": {},
   "source": [
    "## Learn how to switch kernels in a Jupyter Notebook:\n",
    "To switch kernels in a Jupyter Notebook:\n",
    "\n",
    "* Click on the \"Kernel\" menu.\n",
    "* Select \"Change kernel.\"\n",
    "* Choose the desired kernel from the list of available kernels."
   ]
  },
  {
   "cell_type": "markdown",
   "id": "1f9fd61f",
   "metadata": {},
   "source": [
    "## Reset the kernel and clear the outputs. Observe how this affects your notebook:\n",
    "To reset the kernel and clear the outputs in a Jupyter Notebook:\n",
    "\n",
    "Click on the \"Kernel\" menu.\n",
    "Select \"Restart & Clear Output\" to reset the kernel and clear all outputs from the notebook.\n",
    "Observations:\n",
    "\n",
    "Resetting the kernel clears all variables and functions stored in memory, effectively starting fresh.\n",
    "Clearing the outputs removes the results of code execution from the notebook, but the kernel state remains unchanged."
   ]
  },
  {
   "cell_type": "markdown",
   "id": "fa7555ab",
   "metadata": {},
   "source": [
    "## 6. Explore different file formats for exporting your Jupyter Notebook: PDF, HTML, slideshows, etc.\n",
    "Jupyter Notebooks provide several options for exporting your work into different file formats. Some of the common export formats include:\n",
    "\n",
    "1. PDF: Portable Document Format, which is widely used for sharing documents.\n",
    "2. HTML: HyperText Markup Language, suitable for web-based sharing.\n",
    "3. Slideshows: Export your notebook as slides for presentations.\n",
    "4. Markdown: Export your notebook to a Markdown file."
   ]
  },
  {
   "cell_type": "markdown",
   "id": "ca33b814",
   "metadata": {},
   "source": [
    "## Export your notebook as a PDF and HTML file.\n",
    "To export your notebook, you can follow these steps:\n",
    "\n",
    "Click on \"File\" in the Jupyter Notebook menu.\n",
    "\n",
    "Choose \"Download as\" and select the desired format, such as PDF or HTML."
   ]
  },
  {
   "cell_type": "markdown",
   "id": "9651e3fe",
   "metadata": {},
   "source": [
    "## Discuss when different export formats might be useful.\n",
    "* PDF: Useful for creating a static, printable version of your notebook. It's widely supported and maintains a consistent layout across different devices.\n",
    "* HTML: Suitable for sharing interactive notebooks online. It preserves the interactive elements and can be easily viewed in a web browser.\n",
    "* Slideshows: Great for presenting your work in a slideshow format. It allows you to create a dynamic presentation directly from your notebook.\n",
    "* Markdown: If you want to share your code and explanations in a more lightweight format, you can export to Markdown, which can be easily converted to other formats or used for version control."
   ]
  },
  {
   "cell_type": "markdown",
   "id": "33429783",
   "metadata": {},
   "source": [
    "## 7. About nbviewer, an online tool to view Jupyter Notebooks:\n",
    "nbviewer is a web service that allows us to view Jupyter Notebooks stored on the internet without needing to execute them. It renders the notebooks as static web pages, making them easy to share and view online."
   ]
  },
  {
   "cell_type": "markdown",
   "id": "90b6e3f7",
   "metadata": {},
   "source": [
    "## Upload notebook to a public GitHub repository:\n",
    "To upload notebook to a public GitHub repository, we can follow these steps:\n",
    "\n",
    "1. Create a new repository on GitHub.\n",
    "2. Upload Jupyter Notebook file (.ipynb) to the repository.\n",
    "3. Commit changes and push them to the remote repository."
   ]
  },
  {
   "cell_type": "markdown",
   "id": "6bc0e08c",
   "metadata": {},
   "source": [
    "## Use nbviewer to view your notebook online and share the link:\n",
    "After uploading your notebook to a public GitHub repository, we can view it using nbviewer by following these steps:\n",
    "\n",
    "1. Copy the URL of notebook file on GitHub.\n",
    "2. Go to the nbviewer website (https://nbviewer.jupyter.org/).\n",
    "3. Paste the URL into the nbviewer input box and click \"Go.\"\n",
    "4. Once the notebook is rendered by nbviewer, we'll get a stable URL that we can share with others to view notebook online.\n",
    "\n",
    "#### This Notebook's URL is: \n",
    "https://github.com/garvit3835/Intro_to_Jupyter/blob/main/Intro_to_Jupyter.ipynb"
   ]
  },
  {
   "cell_type": "markdown",
   "id": "e1a80533",
   "metadata": {},
   "source": [
    "## About interactive widgets in Jupyter and their purpose:\n",
    "Interactive widgets in Jupyter Notebooks allow users to create user interfaces (UIs) for exploring and manipulating data interactively. These widgets can include sliders, dropdown menus, text inputs, buttons, and more. The purpose of interactive widgets is to enhance the interactivity and user experience of Jupyter Notebooks, making it easier to visualize and analyze data dynamically."
   ]
  },
  {
   "cell_type": "markdown",
   "id": "0671c502",
   "metadata": {},
   "source": [
    "## Creating a simple interactive widget (e.g., a slider to input a number):"
   ]
  },
  {
   "cell_type": "code",
   "execution_count": 12,
   "id": "4d468a8e",
   "metadata": {},
   "outputs": [
    {
     "ename": "ModuleNotFoundError",
     "evalue": "No module named 'ipywidgets'",
     "output_type": "error",
     "traceback": [
      "\u001b[1;31m---------------------------------------------------------------------------\u001b[0m",
      "\u001b[1;31mModuleNotFoundError\u001b[0m                       Traceback (most recent call last)",
      "Cell \u001b[1;32mIn[12], line 1\u001b[0m\n\u001b[1;32m----> 1\u001b[0m \u001b[38;5;28;01mfrom\u001b[39;00m \u001b[38;5;21;01mipywidgets\u001b[39;00m \u001b[38;5;28;01mimport\u001b[39;00m interact\n\u001b[0;32m      3\u001b[0m \u001b[38;5;66;03m# Define a function that takes a number as input and prints it\u001b[39;00m\n\u001b[0;32m      4\u001b[0m \u001b[38;5;28;01mdef\u001b[39;00m \u001b[38;5;21mprint_number\u001b[39m(x):\n",
      "\u001b[1;31mModuleNotFoundError\u001b[0m: No module named 'ipywidgets'"
     ]
    }
   ],
   "source": [
    "from ipywidgets import interact\n",
    "\n",
    "# Define a function that takes a number as input and prints it\n",
    "def print_number(x):\n",
    "    print(x)\n",
    "\n",
    "# Create an interactive slider widget\n",
    "interact(print_number, x=(0, 10, 1))  # Range from 0 to 10 with step size 1"
   ]
  },
  {
   "cell_type": "markdown",
   "id": "af907c2a",
   "metadata": {},
   "source": [
    "## Linking the widget to a Python function (e.g., modifying a plot based on the widget's input):"
   ]
  },
  {
   "cell_type": "code",
   "execution_count": null,
   "id": "e3c1b05a",
   "metadata": {},
   "outputs": [
    {
     "data": {
      "application/vnd.jupyter.widget-view+json": {
       "model_id": "36552241c82e4cc18025c53169b641ec",
       "version_major": 2,
       "version_minor": 0
      },
      "text/plain": [
       "interactive(children=(FloatSlider(value=5.0, description='freq', max=10.0, min=1.0), Output()), _dom_classes=(…"
      ]
     },
     "metadata": {},
     "output_type": "display_data"
    },
    {
     "data": {
      "text/plain": [
       "<function __main__.plot_sine_wave(freq)>"
      ]
     },
     "execution_count": 18,
     "metadata": {},
     "output_type": "execute_result"
    }
   ],
   "source": [
    "import matplotlib.pyplot as plt\n",
    "import numpy as np\n",
    "from ipywidgets import interact\n",
    "\n",
    "# Define a function to plot a sine wave with frequency controlled by a slider\n",
    "def plot_sine_wave(freq):\n",
    "    x = np.linspace(0, 10, 100)\n",
    "    y = np.sin(freq * x)\n",
    "    plt.plot(x, y)\n",
    "    plt.xlabel('X-axis')\n",
    "    plt.ylabel('Y-axis')\n",
    "    plt.title('Sine Wave')\n",
    "    plt.grid(True)\n",
    "    plt.show()\n",
    "\n",
    "# Create an interactive slider widget to control frequency\n",
    "interact(plot_sine_wave, freq=(1, 10, 0.1))  # Range from 1 to 10 with step size 0.1"
   ]
  },
  {
   "cell_type": "markdown",
   "id": "702932d6",
   "metadata": {},
   "source": [
    "## About Jupyter Notebook extensions (e.g., Jupyter_contrib_nbextensions):\n",
    "* jupyter_contrib_nbextensions: This extension package provides a collection of useful notebook extensions, including tools for code folding, table of contents generation, code linting, spell checking, and more."
   ]
  },
  {
   "cell_type": "markdown",
   "id": "c14fe300",
   "metadata": {},
   "source": [
    "## Installing chosen extension and demonstrate its functionality in your notebook:\n",
    "1. Open the Anaconda Terminal and paste the below commands\n",
    "2. pip install jupyter_contrib_nbextensions\n",
    "3. jupyter contrib nbextension install --user\n",
    "4. jupyter notebook\n",
    "5. Open Jupyter Notebook and navigate to the Nbextensions tab to see the installed extensions.\n",
    "6. Choosing any extension we want to use and enable it by checking the box next to it.\n",
    "7. Once enabled, we can use the features provided by the selected extension within our notebook."
   ]
  }
 ],
 "metadata": {
  "kernelspec": {
   "display_name": "Python 3 (ipykernel)",
   "language": "python",
   "name": "python3"
  },
  "language_info": {
   "codemirror_mode": {
    "name": "ipython",
    "version": 3
   },
   "file_extension": ".py",
   "mimetype": "text/x-python",
   "name": "python",
   "nbconvert_exporter": "python",
   "pygments_lexer": "ipython3",
   "version": "3.11.5"
  },
  "toc": {
   "base_numbering": 1,
   "nav_menu": {},
   "number_sections": true,
   "sideBar": true,
   "skip_h1_title": false,
   "title_cell": "Table of Contents",
   "title_sidebar": "Contents",
   "toc_cell": false,
   "toc_position": {},
   "toc_section_display": true,
   "toc_window_display": false
  }
 },
 "nbformat": 4,
 "nbformat_minor": 5
}
